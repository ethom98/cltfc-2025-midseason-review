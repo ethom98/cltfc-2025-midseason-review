{
 "cells": [
  {
   "cell_type": "markdown",
   "id": "d4c43990",
   "metadata": {},
   "source": [
    "\n",
    "### 📊 Data Source\n",
    "\n",
    "This analysis uses data from **WyScout**, provided by the **Charlotte FC Analytics Team**.  \n",
    "The dataset is proprietary and not publicly shareable.\n"
   ]
  },
  {
   "cell_type": "markdown",
   "id": "a4ed56ea",
   "metadata": {},
   "source": [
    "\n",
    "### 📈 Visualizations Created\n",
    "\n",
    "- `cltfc_style_of_play_quadrant`\n",
    "- `cltfc_home_away_goals_clean`\n",
    "- `cltfc_rolling_ppg_with_absences`\n"
   ]
  },
  {
   "cell_type": "markdown",
   "id": "3e76e7af",
   "metadata": {},
   "source": [
    "# Charlotte FC 2025 Midseason Visuals Summary\n",
    "This notebook presents a visual summary of Charlotte FC's 2025 season performance at the halfway point, based on match results and injury data."
   ]
  },
  {
   "cell_type": "code",
   "execution_count": null,
   "id": "a89f1657",
   "metadata": {},
   "outputs": [],
   "source": [
    "\n",
    "import pandas as pd\n",
    "import matplotlib.pyplot as plt\n",
    "import seaborn as sns\n"
   ]
  },
  {
   "cell_type": "code",
   "execution_count": null,
   "id": "f485f929",
   "metadata": {},
   "outputs": [],
   "source": [
    "\n",
    "home_away_df = pd.DataFrame({\n",
    "    'Wins': [6, 2],\n",
    "    'Draws': [0, 1],\n",
    "    'Losses': [2, 7],\n",
    "    'Points': [18, 7],\n",
    "    'Goals Scored': [18, 11],\n",
    "    'Goals Conceded': [9, 20]\n",
    "}, index=['Home', 'Away'])\n",
    "\n",
    "home_away_df\n"
   ]
  },
  {
   "cell_type": "code",
   "execution_count": null,
   "id": "98882b7b",
   "metadata": {},
   "outputs": [],
   "source": [
    "\n",
    "home_away_df[['Points', 'Goals Scored', 'Goals Conceded']].plot(kind='bar', figsize=(10, 6))\n",
    "plt.title('Charlotte FC - Home vs Away Performance (2025 Midseason)')\n",
    "plt.ylabel('Count')\n",
    "plt.xticks(rotation=0)\n",
    "plt.tight_layout()\n",
    "plt.show()\n"
   ]
  },
  {
   "cell_type": "code",
   "execution_count": null,
   "id": "8d946a19",
   "metadata": {},
   "outputs": [],
   "source": [
    "\n",
    "labels = ['0–60 min', '61–90+ min']\n",
    "values = [16, 13]\n",
    "\n",
    "plt.figure(figsize=(6, 6))\n",
    "plt.pie(values, labels=labels, autopct='%1.1f%%', colors=['#66b3ff', '#ff9999'], startangle=140)\n",
    "plt.title('Timing of Goals Conceded (2025)')\n",
    "plt.show()\n"
   ]
  },
  {
   "cell_type": "code",
   "execution_count": null,
   "id": "05ad7fbc",
   "metadata": {},
   "outputs": [],
   "source": [
    "\n",
    "injury_data = pd.DataFrame({\n",
    "    'Player': ['Nathan Byrne', 'Souleyman Doumbia', 'Kristijan Kahlina'],\n",
    "    'Minutes Missed': [665, 285, 190]\n",
    "})\n",
    "\n",
    "plt.figure(figsize=(8, 5))\n",
    "sns.barplot(data=injury_data, x='Player', y='Minutes Missed', palette='Blues_d')\n",
    "plt.title('Minutes Missed Due to Injury')\n",
    "plt.xticks(rotation=15)\n",
    "plt.tight_layout()\n",
    "plt.show()\n"
   ]
  }
 ],
 "metadata": {
  "language_info": {
   "name": "python"
  }
 },
 "nbformat": 4,
 "nbformat_minor": 5
}
