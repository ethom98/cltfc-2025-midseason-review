{
 "cells": [
  {
   "cell_type": "markdown",
   "id": "3e76e7af",
   "metadata": {},
   "source": [
    "# Charlotte FC 2025 Midseason Summary\n",
    "This notebook presents a visual summary of Charlotte FC's 2025 season performance at the halfway point, based on match results and injury data."
   ]
  },
  {
   "cell_type": "code",
   "execution_count": null,
   "id": "a89f1657",
   "metadata": {},
   "outputs": [],
   "source": [
    "\n",
    "import pandas as pd\n",
    "import matplotlib.pyplot as plt\n",
    "import seaborn as sns\n"
   ]
  },
  {
   "cell_type": "code",
   "execution_count": null,
   "id": "f485f929",
   "metadata": {},
   "outputs": [],
   "source": [
    "\n",
    "home_away_df = pd.DataFrame({\n",
    "    'Wins': [6, 2],\n",
    "    'Draws': [0, 1],\n",
    "    'Losses': [2, 7],\n",
    "    'Points': [18, 7],\n",
    "    'Goals Scored': [18, 11],\n",
    "    'Goals Conceded': [9, 20]\n",
    "}, index=['Home', 'Away'])\n",
    "\n",
    "home_away_df\n"
   ]
  },
  {
   "cell_type": "code",
   "execution_count": null,
   "id": "98882b7b",
   "metadata": {},
   "outputs": [],
   "source": [
    "\n",
    "home_away_df[['Points', 'Goals Scored', 'Goals Conceded']].plot(kind='bar', figsize=(10, 6))\n",
    "plt.title('Charlotte FC - Home vs Away Performance (2025 Midseason)')\n",
    "plt.ylabel('Count')\n",
    "plt.xticks(rotation=0)\n",
    "plt.tight_layout()\n",
    "plt.show()\n"
   ]
  },
  {
   "cell_type": "code",
   "execution_count": null,
   "id": "8d946a19",
   "metadata": {},
   "outputs": [],
   "source": [
    "\n",
    "labels = ['0–60 min', '61–90+ min']\n",
    "values = [16, 13]\n",
    "\n",
    "plt.figure(figsize=(6, 6))\n",
    "plt.pie(values, labels=labels, autopct='%1.1f%%', colors=['#66b3ff', '#ff9999'], startangle=140)\n",
    "plt.title('Timing of Goals Conceded (2025)')\n",
    "plt.show()\n"
   ]
  },
  {
   "cell_type": "code",
   "execution_count": null,
   "id": "05ad7fbc",
   "metadata": {},
   "outputs": [],
   "source": [
    "\n",
    "injury_data = pd.DataFrame({\n",
    "    'Player': ['Nathan Byrne', 'Souleyman Doumbia', 'Kristijan Kahlina'],\n",
    "    'Minutes Missed': [665, 285, 190]\n",
    "})\n",
    "\n",
    "plt.figure(figsize=(8, 5))\n",
    "sns.barplot(data=injury_data, x='Player', y='Minutes Missed', palette='Blues_d')\n",
    "plt.title('Minutes Missed Due to Injury')\n",
    "plt.xticks(rotation=15)\n",
    "plt.tight_layout()\n",
    "plt.show()\n"
   ]
  },
  {
   "cell_type": "markdown",
   "id": "6c45d903",
   "metadata": {},
   "source": [
    "\n",
    "## ⚽ Style of Play Comparison\n",
    "\n",
    "This chart compares Charlotte FC’s average possession and PPDA to other Eastern Conference teams in 2025. \n",
    "\n",
    "Charlotte FC is located in the **top-left quadrant** — teams that allow the opposition to build up slowly and sit in a mid-block, rather than pressing high or holding the majority of possession.\n",
    "\n",
    "This aligns with their:\n",
    "- High PPDA (low pressing intensity)\n",
    "- Lower than average possession\n",
    "- Conservative defensive approach with focused progression once the ball is won\n",
    "\n",
    "![Style of Play Chart](cltfc_style_of_play_quadrant.png)\n"
   ]
  },
  {
   "cell_type": "markdown",
   "id": "99598de2",
   "metadata": {},
   "source": [
    "\n",
    "## 🏟️ Home vs Away Goal Contributions\n",
    "\n",
    "Charlotte FC’s 2025 MLS season reveals a clear split in performance based on venue:\n",
    "\n",
    "| Venue | Goals Scored | Goals Conceded |\n",
    "|-------|--------------|----------------|\n",
    "| 🏠 **Home** | **17**          | **9**              |\n",
    "| 🛫 **Away** | **11**          | **18**             |\n",
    "\n",
    "### 🧠 Key Insights:\n",
    "- The team scores **over 50% more goals at home** and concedes **twice as few**.\n",
    "- Charlotte is **defensively stable at home**, but their shape breaks down on the road.\n",
    "- **Away matches are particularly vulnerable** to late-game goals, aligning with a tactical model that defends deep but fatigues late.\n",
    "- These splits reinforce the narrative of Charlotte being **a playoff-caliber home team** — but in need of better game management and rotation away from home.\n"
   ]
  },
  {
   "cell_type": "markdown",
   "id": "ee8f033d",
   "metadata": {},
   "source": [
    "\n",
    "![Home vs Away Goals](visuals/cltfc_home_away_goals_clean.png)\n"
   ]
  }
 ],
 "metadata": {},
 "nbformat": 4,
 "nbformat_minor": 5
}
